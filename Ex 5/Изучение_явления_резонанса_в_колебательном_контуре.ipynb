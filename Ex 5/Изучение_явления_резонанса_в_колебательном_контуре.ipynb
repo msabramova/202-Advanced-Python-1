{
 "cells": [
  {
   "cell_type": "markdown",
   "id": "504e8e4f",
   "metadata": {},
   "source": [
    "# Изучение явления резонанса в колебательном контуре"
   ]
  },
  {
   "cell_type": "markdown",
   "id": "4ac950da",
   "metadata": {},
   "source": [
    "#### Цель работы\n",
    "Экспериментальное изучение явления резонанса в последовательном и параллельном колебательных RLC контурах. Получение зависимостей амплитуды напряжения на различных элементах колебательного контура от частоты электродвижущей силы внешнего источника."
   ]
  },
  {
   "cell_type": "markdown",
   "id": "94cc800a",
   "metadata": {},
   "source": [
    "#### Идея эксперимента\n",
    "К колебательному контуру подключается источник гармонического напряжения с плавно изменяющейся частотой. Это позволяет, используя компьютерную систему регистрации, получать амплитудные и фазовые резонансные кривые на различных элементах колебательного контура."
   ]
  },
  {
   "cell_type": "markdown",
   "id": "f2298a89",
   "metadata": {},
   "source": [
    "### Обработка эксперимента"
   ]
  },
  {
   "cell_type": "code",
   "execution_count": 1,
   "id": "4b741fe2",
   "metadata": {},
   "outputs": [],
   "source": [
    "import pandas as pd\n",
    "import numpy as np\n",
    "import matplotlib.pyplot as plt"
   ]
  },
  {
   "cell_type": "markdown",
   "id": "16197dd9",
   "metadata": {},
   "source": [
    "#### Упражнение 1\n",
    "\n",
    "$$\n",
    "    L = \\frac{1}{4 \\pi^2 f_{рез}^2 C}; \\;\\;\\;\\; Q_1 = \\frac{f_{рез}}{\\Delta f}; \\;\\;\\;\\; r = \\frac{1}{Q} \\sqrt{\\frac{L}{C}}\n",
    "$$\n",
    "$$\n",
    "    \\beta = \\frac{r}{2L}; \\;\\;\\;\\; \\omega_0 = \\frac{1}{\\sqrt{LC}}; \\;\\;\\;\\; Q_2 = \\frac{\\sqrt{\\omega_0^2 - \\beta^2}}{2 \\beta}\n",
    "$$"
   ]
  },
  {
   "cell_type": "code",
   "execution_count": 2,
   "id": "240879fd",
   "metadata": {},
   "outputs": [
    {
     "data": {
      "text/html": [
       "<div>\n",
       "<style scoped>\n",
       "    .dataframe tbody tr th:only-of-type {\n",
       "        vertical-align: middle;\n",
       "    }\n",
       "\n",
       "    .dataframe tbody tr th {\n",
       "        vertical-align: top;\n",
       "    }\n",
       "\n",
       "    .dataframe thead th {\n",
       "        text-align: right;\n",
       "    }\n",
       "</style>\n",
       "<table border=\"1\" class=\"dataframe\">\n",
       "  <thead>\n",
       "    <tr style=\"text-align: right;\">\n",
       "      <th></th>\n",
       "      <th>$C$, мкФ</th>\n",
       "      <th>$f_{рез}$, Гц</th>\n",
       "      <th>$\\Delta f$, Гц</th>\n",
       "      <th>$A$</th>\n",
       "      <th>$L$, Гн</th>\n",
       "      <th>$Q_1$</th>\n",
       "      <th>$r$, Ом</th>\n",
       "      <th>$\\omega_0$, рад/с</th>\n",
       "      <th>$\\beta$, рад/с</th>\n",
       "      <th>$Q_2$</th>\n",
       "    </tr>\n",
       "  </thead>\n",
       "  <tbody>\n",
       "    <tr>\n",
       "      <th>0</th>\n",
       "      <td>2.2</td>\n",
       "      <td>1916.41</td>\n",
       "      <td>259.88</td>\n",
       "      <td>5.028</td>\n",
       "      <td>0.003135</td>\n",
       "      <td>7.374211</td>\n",
       "      <td>5.119098</td>\n",
       "      <td>12041.159155</td>\n",
       "      <td>816.437099</td>\n",
       "      <td>7.357241</td>\n",
       "    </tr>\n",
       "    <tr>\n",
       "      <th>1</th>\n",
       "      <td>2.2</td>\n",
       "      <td>1936.93</td>\n",
       "      <td>274.51</td>\n",
       "      <td>4.866</td>\n",
       "      <td>0.003069</td>\n",
       "      <td>7.055954</td>\n",
       "      <td>5.293315</td>\n",
       "      <td>12170.090117</td>\n",
       "      <td>862.398599</td>\n",
       "      <td>7.038216</td>\n",
       "    </tr>\n",
       "  </tbody>\n",
       "</table>\n",
       "</div>"
      ],
      "text/plain": [
       "   $C$, мкФ  $f_{рез}$, Гц  $\\Delta f$, Гц    $A$   $L$, Гн     $Q_1$  \\\n",
       "0       2.2        1916.41          259.88  5.028  0.003135  7.374211   \n",
       "1       2.2        1936.93          274.51  4.866  0.003069  7.055954   \n",
       "\n",
       "    $r$, Ом  $\\omega_0$, рад/с  $\\beta$, рад/с     $Q_2$  \n",
       "0  5.119098       12041.159155      816.437099  7.357241  \n",
       "1  5.293315       12170.090117      862.398599  7.038216  "
      ]
     },
     "execution_count": 2,
     "metadata": {},
     "output_type": "execute_result"
    }
   ],
   "source": [
    "df1 = pd.DataFrame({\n",
    "    \"$C$, мкФ\": 2.2,\n",
    "    \"$f_{рез}$, Гц\": [1916.41, 1936.93],\n",
    "    \"$\\Delta f$, Гц\": [259.88, 274.51],\n",
    "    \"$A$\": [5.028, 4.866]\n",
    "})\n",
    "df1[\"$L$, Гн\"] = 1 / (4 * np.pi**2 * df1[\"$f_{рез}$, Гц\"]**2 * df1[\"$C$, мкФ\"] * 1e-6)\n",
    "df1[\"$Q_1$\"] = df1[\"$f_{рез}$, Гц\"] / df1[\"$\\Delta f$, Гц\"]\n",
    "df1[\"$r$, Ом\"] = 1 / df1[\"$Q_1$\"] * np.sqrt(df1[\"$L$, Гн\"] / (df1[\"$C$, мкФ\"] * 1e-6))\n",
    "df1[\"$\\omega_0$, рад/с\"] = 1 / np.sqrt(df1[\"$C$, мкФ\"] * 1e-6 * df1[\"$L$, Гн\"])\n",
    "df1[\"$\\\\beta$, рад/с\"] = df1[\"$r$, Ом\"] / 2 / df1[\"$L$, Гн\"]\n",
    "df1[\"$Q_2$\"] = np.sqrt(df1[\"$\\omega_0$, рад/с\"]**2 - df1[\"$\\\\beta$, рад/с\"]**2) / 2 / df1[\"$\\\\beta$, рад/с\"]\n",
    "\n",
    "df1"
   ]
  },
  {
   "cell_type": "code",
   "execution_count": 3,
   "id": "e4e0fad2",
   "metadata": {},
   "outputs": [
    {
     "name": "stdout",
     "output_type": "stream",
     "text": [
      "L = 0.003101986190182107\n",
      "Q_1 = 7.215082710067573\n",
      "Q_2 = 7.19772854870102\n"
     ]
    }
   ],
   "source": [
    "print(\"L =\", df1[\"$L$, Гн\"].mean())\n",
    "print(\"Q_1 =\", df1[\"$Q_1$\"].mean())\n",
    "print(\"Q_2 =\", df1[\"$Q_2$\"].mean())"
   ]
  },
  {
   "cell_type": "markdown",
   "id": "359a1e4c",
   "metadata": {},
   "source": [
    "#### Упражнение 2\n",
    "a)"
   ]
  },
  {
   "cell_type": "code",
   "execution_count": 4,
   "id": "3e940912",
   "metadata": {},
   "outputs": [
    {
     "data": {
      "text/html": [
       "<div>\n",
       "<style scoped>\n",
       "    .dataframe tbody tr th:only-of-type {\n",
       "        vertical-align: middle;\n",
       "    }\n",
       "\n",
       "    .dataframe tbody tr th {\n",
       "        vertical-align: top;\n",
       "    }\n",
       "\n",
       "    .dataframe thead th {\n",
       "        text-align: right;\n",
       "    }\n",
       "</style>\n",
       "<table border=\"1\" class=\"dataframe\">\n",
       "  <thead>\n",
       "    <tr style=\"text-align: right;\">\n",
       "      <th></th>\n",
       "      <th>$R$, Ом</th>\n",
       "      <th>$f_{рез}$, Гц</th>\n",
       "      <th>$\\Delta f$, Гц</th>\n",
       "      <th>$A$</th>\n",
       "      <th>$C$, мкФ</th>\n",
       "      <th>$Q$</th>\n",
       "    </tr>\n",
       "  </thead>\n",
       "  <tbody>\n",
       "    <tr>\n",
       "      <th>0</th>\n",
       "      <td>1.0</td>\n",
       "      <td>1882.22</td>\n",
       "      <td>321.43</td>\n",
       "      <td>5.891</td>\n",
       "      <td>2.2</td>\n",
       "      <td>5.855770</td>\n",
       "    </tr>\n",
       "    <tr>\n",
       "      <th>1</th>\n",
       "      <td>5.1</td>\n",
       "      <td>1889.06</td>\n",
       "      <td>567.63</td>\n",
       "      <td>3.526</td>\n",
       "      <td>2.2</td>\n",
       "      <td>3.327978</td>\n",
       "    </tr>\n",
       "    <tr>\n",
       "      <th>2</th>\n",
       "      <td>10.0</td>\n",
       "      <td>1854.86</td>\n",
       "      <td>820.67</td>\n",
       "      <td>2.437</td>\n",
       "      <td>2.2</td>\n",
       "      <td>2.260178</td>\n",
       "    </tr>\n",
       "  </tbody>\n",
       "</table>\n",
       "</div>"
      ],
      "text/plain": [
       "   $R$, Ом  $f_{рез}$, Гц  $\\Delta f$, Гц    $A$  $C$, мкФ       $Q$\n",
       "0      1.0        1882.22          321.43  5.891       2.2  5.855770\n",
       "1      5.1        1889.06          567.63  3.526       2.2  3.327978\n",
       "2     10.0        1854.86          820.67  2.437       2.2  2.260178"
      ]
     },
     "execution_count": 4,
     "metadata": {},
     "output_type": "execute_result"
    }
   ],
   "source": [
    "df2a = pd.DataFrame({\n",
    "    \"$R$, Ом\": [1, 5.1, 10],\n",
    "    \"$f_{рез}$, Гц\": [1882.22, 1889.06, 1854.86],\n",
    "    \"$\\Delta f$, Гц\": [321.43, 567.63, 820.67],\n",
    "    \"$A$\": [5.891, 3.526, 2.437],\n",
    "    \"$C$, мкФ\": 2.2\n",
    "})\n",
    "df2a[\"$Q$\"] = df2a[\"$f_{рез}$, Гц\"] / df2a[\"$\\Delta f$, Гц\"]\n",
    "\n",
    "df2a"
   ]
  },
  {
   "cell_type": "code",
   "execution_count": 5,
   "id": "f5782442",
   "metadata": {},
   "outputs": [],
   "source": [
    "def find_coeffs(x, y):\n",
    "    A = np.vstack((x, np.ones_like(x))).T\n",
    "    k, b = np.linalg.lstsq(A, y, rcond=None)[0]\n",
    "    return k, b"
   ]
  },
  {
   "cell_type": "code",
   "execution_count": 6,
   "id": "63c3e663",
   "metadata": {},
   "outputs": [],
   "source": [
    "df2a[\"$1/Q$\"] = 1 / df2a[\"$Q$\"]\n",
    "k, b = find_coeffs(df2a[\"$R$, Ом\"], df2a[\"$1/Q$\"])"
   ]
  },
  {
   "cell_type": "code",
   "execution_count": 7,
   "id": "7abe893d",
   "metadata": {},
   "outputs": [
    {
     "data": {
      "image/png": "[encoded data removed]",
      "text/plain": [
       "<Figure size 864x576 with 1 Axes>"
      ]
     },
     "metadata": {
      "needs_background": "light"
     },
     "output_type": "display_data"
    }
   ],
   "source": [
    "df2a.plot(\"$R$, Ом\", \"$1/Q$\", style='o', figsize=(12, 8), legend=False)\n",
    "plt.plot(np.linspace(0, 11, 100), k * np.linspace(0, 11, 100) + b)\n",
    "plt.title(\"График зависимости обратной добротности от сопротивления резистора\")\n",
    "plt.grid()\n",
    "plt.ylabel(\"1/Q\")\n",
    "plt.show()"
   ]
  },
  {
   "cell_type": "markdown",
   "id": "2d4d43df",
   "metadata": {},
   "source": [
    "Если $1/Q = k R + b$, то\n",
    "$$\n",
    "    L = \\frac{C}{k^2}; \\;\\;\\;\\; r = \\frac{b}{k}\n",
    "$$\n",
    "\n",
    "Аналогично можно расчитать $\\omega_0, \\beta, Q_2$"
   ]
  },
  {
   "cell_type": "code",
   "execution_count": 8,
   "id": "915f5410",
   "metadata": {},
   "outputs": [
    {
     "data": {
      "text/html": [
       "<div>\n",
       "<style scoped>\n",
       "    .dataframe tbody tr th:only-of-type {\n",
       "        vertical-align: middle;\n",
       "    }\n",
       "\n",
       "    .dataframe tbody tr th {\n",
       "        vertical-align: top;\n",
       "    }\n",
       "\n",
       "    .dataframe thead th {\n",
       "        text-align: right;\n",
       "    }\n",
       "</style>\n",
       "<table border=\"1\" class=\"dataframe\">\n",
       "  <thead>\n",
       "    <tr style=\"text-align: right;\">\n",
       "      <th></th>\n",
       "      <th>$R$, Ом</th>\n",
       "      <th>$f_{рез}$, Гц</th>\n",
       "      <th>$\\Delta f$, Гц</th>\n",
       "      <th>$A$</th>\n",
       "      <th>$C$, мкФ</th>\n",
       "      <th>$Q$</th>\n",
       "      <th>$1/Q$</th>\n",
       "      <th>$L$, Гн</th>\n",
       "      <th>$r$, Ом</th>\n",
       "      <th>$\\omega_0$, рад/с</th>\n",
       "      <th>$\\beta$, рад/с</th>\n",
       "      <th>$Q_2$</th>\n",
       "    </tr>\n",
       "  </thead>\n",
       "  <tbody>\n",
       "    <tr>\n",
       "      <th>0</th>\n",
       "      <td>1.0</td>\n",
       "      <td>1882.22</td>\n",
       "      <td>321.43</td>\n",
       "      <td>5.891</td>\n",
       "      <td>2.2</td>\n",
       "      <td>5.855770</td>\n",
       "      <td>0.170772</td>\n",
       "      <td>0.002421</td>\n",
       "      <td>4.736149</td>\n",
       "      <td>13703.015256</td>\n",
       "      <td>1184.800893</td>\n",
       "      <td>5.761178</td>\n",
       "    </tr>\n",
       "    <tr>\n",
       "      <th>1</th>\n",
       "      <td>5.1</td>\n",
       "      <td>1889.06</td>\n",
       "      <td>567.63</td>\n",
       "      <td>3.526</td>\n",
       "      <td>2.2</td>\n",
       "      <td>3.327978</td>\n",
       "      <td>0.300483</td>\n",
       "      <td>0.002421</td>\n",
       "      <td>4.736149</td>\n",
       "      <td>13703.015256</td>\n",
       "      <td>2031.655442</td>\n",
       "      <td>3.335105</td>\n",
       "    </tr>\n",
       "    <tr>\n",
       "      <th>2</th>\n",
       "      <td>10.0</td>\n",
       "      <td>1854.86</td>\n",
       "      <td>820.67</td>\n",
       "      <td>2.437</td>\n",
       "      <td>2.2</td>\n",
       "      <td>2.260178</td>\n",
       "      <td>0.442443</td>\n",
       "      <td>0.002421</td>\n",
       "      <td>4.736149</td>\n",
       "      <td>13703.015256</td>\n",
       "      <td>3043.749902</td>\n",
       "      <td>2.194776</td>\n",
       "    </tr>\n",
       "  </tbody>\n",
       "</table>\n",
       "</div>"
      ],
      "text/plain": [
       "   $R$, Ом  $f_{рез}$, Гц  $\\Delta f$, Гц    $A$  $C$, мкФ       $Q$  \\\n",
       "0      1.0        1882.22          321.43  5.891       2.2  5.855770   \n",
       "1      5.1        1889.06          567.63  3.526       2.2  3.327978   \n",
       "2     10.0        1854.86          820.67  2.437       2.2  2.260178   \n",
       "\n",
       "      $1/Q$   $L$, Гн   $r$, Ом  $\\omega_0$, рад/с  $\\beta$, рад/с     $Q_2$  \n",
       "0  0.170772  0.002421  4.736149       13703.015256     1184.800893  5.761178  \n",
       "1  0.300483  0.002421  4.736149       13703.015256     2031.655442  3.335105  \n",
       "2  0.442443  0.002421  4.736149       13703.015256     3043.749902  2.194776  "
      ]
     },
     "execution_count": 8,
     "metadata": {},
     "output_type": "execute_result"
    }
   ],
   "source": [
    "df2a[\"$L$, Гн\"] = df2a[\"$C$, мкФ\"] * 1e-6 / k**2\n",
    "df2a[\"$r$, Ом\"] = b / k\n",
    "df2a[\"$\\omega_0$, рад/с\"] = 1 / np.sqrt(df2a[\"$C$, мкФ\"] * 1e-6 * df2a[\"$L$, Гн\"])\n",
    "df2a[\"$\\\\beta$, рад/с\"] = (df2a[\"$R$, Ом\"] + df2a[\"$r$, Ом\"]) / 2 / df2a[\"$L$, Гн\"]\n",
    "df2a[\"$Q_2$\"] = np.sqrt(df2a[\"$\\omega_0$, рад/с\"]**2 - df2a[\"$\\\\beta$, рад/с\"]**2) / 2 / df2a[\"$\\\\beta$, рад/с\"]\n",
    "\n",
    "df2a"
   ]
  },
  {
   "cell_type": "markdown",
   "id": "f1427060",
   "metadata": {},
   "source": [
    "б)"
   ]
  },
  {
   "cell_type": "code",
   "execution_count": 9,
   "id": "31696fb1",
   "metadata": {},
   "outputs": [
    {
     "data": {
      "text/html": [
       "<div>\n",
       "<style scoped>\n",
       "    .dataframe tbody tr th:only-of-type {\n",
       "        vertical-align: middle;\n",
       "    }\n",
       "\n",
       "    .dataframe tbody tr th {\n",
       "        vertical-align: top;\n",
       "    }\n",
       "\n",
       "    .dataframe thead th {\n",
       "        text-align: right;\n",
       "    }\n",
       "</style>\n",
       "<table border=\"1\" class=\"dataframe\">\n",
       "  <thead>\n",
       "    <tr style=\"text-align: right;\">\n",
       "      <th></th>\n",
       "      <th>$C$, мкФ</th>\n",
       "      <th>$R$, Ом</th>\n",
       "      <th>$f_{рез}$, Гц</th>\n",
       "      <th>$\\Delta f$, Гц</th>\n",
       "      <th>$A$</th>\n",
       "      <th>$Q$</th>\n",
       "    </tr>\n",
       "  </thead>\n",
       "  <tbody>\n",
       "    <tr>\n",
       "      <th>0</th>\n",
       "      <td>0.22</td>\n",
       "      <td>5.1</td>\n",
       "      <td>6252.28</td>\n",
       "      <td>588.14</td>\n",
       "      <td>10.45</td>\n",
       "      <td>10.630598</td>\n",
       "    </tr>\n",
       "    <tr>\n",
       "      <th>1</th>\n",
       "      <td>0.47</td>\n",
       "      <td>5.1</td>\n",
       "      <td>4269.00</td>\n",
       "      <td>574.46</td>\n",
       "      <td>7.55</td>\n",
       "      <td>7.431327</td>\n",
       "    </tr>\n",
       "    <tr>\n",
       "      <th>2</th>\n",
       "      <td>1.00</td>\n",
       "      <td>5.1</td>\n",
       "      <td>2880.70</td>\n",
       "      <td>560.79</td>\n",
       "      <td>5.33</td>\n",
       "      <td>5.136861</td>\n",
       "    </tr>\n",
       "    <tr>\n",
       "      <th>3</th>\n",
       "      <td>2.20</td>\n",
       "      <td>5.1</td>\n",
       "      <td>1895.90</td>\n",
       "      <td>601.82</td>\n",
       "      <td>3.65</td>\n",
       "      <td>3.150277</td>\n",
       "    </tr>\n",
       "    <tr>\n",
       "      <th>4</th>\n",
       "      <td>4.70</td>\n",
       "      <td>5.1</td>\n",
       "      <td>1280.40</td>\n",
       "      <td>560.79</td>\n",
       "      <td>2.64</td>\n",
       "      <td>2.283208</td>\n",
       "    </tr>\n",
       "  </tbody>\n",
       "</table>\n",
       "</div>"
      ],
      "text/plain": [
       "   $C$, мкФ  $R$, Ом  $f_{рез}$, Гц  $\\Delta f$, Гц    $A$        $Q$\n",
       "0      0.22      5.1        6252.28          588.14  10.45  10.630598\n",
       "1      0.47      5.1        4269.00          574.46   7.55   7.431327\n",
       "2      1.00      5.1        2880.70          560.79   5.33   5.136861\n",
       "3      2.20      5.1        1895.90          601.82   3.65   3.150277\n",
       "4      4.70      5.1        1280.40          560.79   2.64   2.283208"
      ]
     },
     "execution_count": 9,
     "metadata": {},
     "output_type": "execute_result"
    }
   ],
   "source": [
    "df2b = pd.DataFrame({\n",
    "    \"$C$, мкФ\": [0.22, 0.47, 1, 2.2, 4.7],\n",
    "    \"$R$, Ом\": 5.1,\n",
    "    \"$f_{рез}$, Гц\": [6252.28, 4269.00, 2880.70, 1895.90, 1280.40],\n",
    "    \"$\\Delta f$, Гц\": [588.14, 574.46, 560.79, 601.82, 560.79],\n",
    "    \"$A$\": [10.45, 7.55, 5.33, 3.65, 2.64],\n",
    "})\n",
    "\n",
    "df2b[\"$Q$\"] = df2b[\"$f_{рез}$, Гц\"] / df2b[\"$\\Delta f$, Гц\"]\n",
    "\n",
    "df2b"
   ]
  },
  {
   "cell_type": "code",
   "execution_count": 10,
   "id": "274a9443",
   "metadata": {},
   "outputs": [
    {
     "data": {
      "image/png": "[encoded data removed]",
      "text/plain": [
       "<Figure size 864x576 with 1 Axes>"
      ]
     },
     "metadata": {
      "needs_background": "light"
     },
     "output_type": "display_data"
    }
   ],
   "source": [
    "df2b.plot(\"$f_{рез}$, Гц\", \"$Q$\", style='o', figsize=(12, 8), legend=False)\n",
    "plt.title(\"График зависимости добротности от резонансной частоты\")\n",
    "plt.grid()\n",
    "plt.ylabel(\"Q\")\n",
    "plt.show()"
   ]
  },
  {
   "cell_type": "markdown",
   "id": "0d9b0322",
   "metadata": {},
   "source": [
    "в)\n",
    "\n",
    "Помимо формул добростности выше расчитаем также:\n",
    "\n",
    "$$\n",
    "    \\omega_C = \\sqrt{\\omega_0^2 - 2 \\beta^2}; \\;\\;\\;\\; \\omega_L = \\frac{\\omega_0^2}{\\sqrt{\\omega_0^2 - 2 \\beta^2}}\n",
    "$$\n",
    "\n",
    "$$\n",
    "    Q_3 = \\frac{\\sqrt{\\omega_L + \\omega_C}}{2 \\sqrt{\\omega_L - \\omega_C}}\n",
    "$$"
   ]
  },
  {
   "cell_type": "code",
   "execution_count": 11,
   "id": "f425cefc",
   "metadata": {},
   "outputs": [
    {
     "data": {
      "text/html": [
       "<div>\n",
       "<style scoped>\n",
       "    .dataframe tbody tr th:only-of-type {\n",
       "        vertical-align: middle;\n",
       "    }\n",
       "\n",
       "    .dataframe tbody tr th {\n",
       "        vertical-align: top;\n",
       "    }\n",
       "\n",
       "    .dataframe thead th {\n",
       "        text-align: right;\n",
       "    }\n",
       "</style>\n",
       "<table border=\"1\" class=\"dataframe\">\n",
       "  <thead>\n",
       "    <tr style=\"text-align: right;\">\n",
       "      <th></th>\n",
       "      <th>$R$, Ом</th>\n",
       "      <th>$C$, мкФ</th>\n",
       "      <th>$f_{рез}$, Гц</th>\n",
       "      <th>$\\Delta f$, Гц</th>\n",
       "      <th>$A$</th>\n",
       "      <th>$L$, Гн</th>\n",
       "      <th>$Q_1$</th>\n",
       "      <th>$r$, Ом</th>\n",
       "      <th>$\\omega_0$, рад/с</th>\n",
       "      <th>$\\beta$, рад/с</th>\n",
       "      <th>$Q_2$</th>\n",
       "      <th>$\\omega_C$, рад/с</th>\n",
       "      <th>$\\omega_L$, рад/с</th>\n",
       "      <th>$Q_3$</th>\n",
       "    </tr>\n",
       "  </thead>\n",
       "  <tbody>\n",
       "    <tr>\n",
       "      <th>0</th>\n",
       "      <td>5.1</td>\n",
       "      <td>0.22</td>\n",
       "      <td>6293.31</td>\n",
       "      <td>519.75</td>\n",
       "      <td>0.494</td>\n",
       "      <td>0.002907</td>\n",
       "      <td>12.108341</td>\n",
       "      <td>9.493661</td>\n",
       "      <td>39542.032926</td>\n",
       "      <td>1632.842782</td>\n",
       "      <td>12.098013</td>\n",
       "      <td>39474.548975</td>\n",
       "      <td>39609.632244</td>\n",
       "      <td>12.098013</td>\n",
       "    </tr>\n",
       "    <tr>\n",
       "      <th>1</th>\n",
       "      <td>5.1</td>\n",
       "      <td>0.22</td>\n",
       "      <td>6272.80</td>\n",
       "      <td>656.53</td>\n",
       "      <td>10.492</td>\n",
       "      <td>0.002926</td>\n",
       "      <td>9.554476</td>\n",
       "      <td>12.070608</td>\n",
       "      <td>39413.164795</td>\n",
       "      <td>2062.549825</td>\n",
       "      <td>9.541384</td>\n",
       "      <td>39305.080277</td>\n",
       "      <td>39521.546533</td>\n",
       "      <td>9.541384</td>\n",
       "    </tr>\n",
       "    <tr>\n",
       "      <th>2</th>\n",
       "      <td>5.1</td>\n",
       "      <td>0.22</td>\n",
       "      <td>6259.12</td>\n",
       "      <td>567.63</td>\n",
       "      <td>10.382</td>\n",
       "      <td>0.002939</td>\n",
       "      <td>11.026760</td>\n",
       "      <td>10.481809</td>\n",
       "      <td>39327.210820</td>\n",
       "      <td>1783.262238</td>\n",
       "      <td>11.015418</td>\n",
       "      <td>39246.266860</td>\n",
       "      <td>39408.321724</td>\n",
       "      <td>11.015418</td>\n",
       "    </tr>\n",
       "  </tbody>\n",
       "</table>\n",
       "</div>"
      ],
      "text/plain": [
       "   $R$, Ом  $C$, мкФ  $f_{рез}$, Гц  $\\Delta f$, Гц     $A$   $L$, Гн  \\\n",
       "0      5.1      0.22        6293.31          519.75   0.494  0.002907   \n",
       "1      5.1      0.22        6272.80          656.53  10.492  0.002926   \n",
       "2      5.1      0.22        6259.12          567.63  10.382  0.002939   \n",
       "\n",
       "       $Q_1$    $r$, Ом  $\\omega_0$, рад/с  $\\beta$, рад/с      $Q_2$  \\\n",
       "0  12.108341   9.493661       39542.032926     1632.842782  12.098013   \n",
       "1   9.554476  12.070608       39413.164795     2062.549825   9.541384   \n",
       "2  11.026760  10.481809       39327.210820     1783.262238  11.015418   \n",
       "\n",
       "   $\\omega_C$, рад/с  $\\omega_L$, рад/с      $Q_3$  \n",
       "0       39474.548975       39609.632244  12.098013  \n",
       "1       39305.080277       39521.546533   9.541384  \n",
       "2       39246.266860       39408.321724  11.015418  "
      ]
     },
     "execution_count": 11,
     "metadata": {},
     "output_type": "execute_result"
    }
   ],
   "source": [
    "df2с = pd.DataFrame({\n",
    "    \"$R$, Ом\": 5.1,\n",
    "    \"$C$, мкФ\": 0.22,\n",
    "    \"$f_{рез}$, Гц\": [6293.31, 6272.8, 6259.12],\n",
    "    \"$\\Delta f$, Гц\": [519.75, 656.53, 567.63],\n",
    "    \"$A$\": [0.494, 10.492, 10.382],\n",
    "})\n",
    "\n",
    "df2с[\"$L$, Гн\"] = 1 / (4 * np.pi**2 * df2с[\"$f_{рез}$, Гц\"]**2 * df2с[\"$C$, мкФ\"] * 1e-6)\n",
    "df2с[\"$Q_1$\"] = df2с[\"$f_{рез}$, Гц\"] / df2с[\"$\\Delta f$, Гц\"]\n",
    "df2с[\"$r$, Ом\"] = 1 / df2с[\"$Q_1$\"] * np.sqrt(df2с[\"$L$, Гн\"] / (df2с[\"$C$, мкФ\"] * 1e-6))\n",
    "df2с[\"$\\omega_0$, рад/с\"] = 1 / np.sqrt(df2с[\"$C$, мкФ\"] * 1e-6 * df2с[\"$L$, Гн\"])\n",
    "df2с[\"$\\\\beta$, рад/с\"] = df2с[\"$r$, Ом\"] / 2 / df2с[\"$L$, Гн\"]\n",
    "df2с[\"$Q_2$\"] = np.sqrt(df2с[\"$\\omega_0$, рад/с\"]**2 - df2с[\"$\\\\beta$, рад/с\"]**2) / 2 / df2с[\"$\\\\beta$, рад/с\"]\n",
    "\n",
    "df2с[\"$\\omega_C$, рад/с\"] = np.sqrt(df2с[\"$\\omega_0$, рад/с\"]**2 - 2 * df2с[\"$\\\\beta$, рад/с\"]**2)\n",
    "df2с[\"$\\omega_L$, рад/с\"] = df2с[\"$\\omega_0$, рад/с\"]**2 / np.sqrt(df2с[\"$\\omega_0$, рад/с\"]**2 - 2 * df2с[\"$\\\\beta$, рад/с\"]**2)\n",
    "df2с[\"$Q_3$\"] = np.sqrt(df2с[\"$\\omega_L$, рад/с\"] + df2с[\"$\\omega_C$, рад/с\"]) / 2 / np.sqrt(df2с[\"$\\omega_L$, рад/с\"] - df2с[\"$\\omega_C$, рад/с\"])\n",
    "\n",
    "df2с"
   ]
  },
  {
   "cell_type": "markdown",
   "id": "09d877e5",
   "metadata": {},
   "source": [
    "#### Упражнение 3"
   ]
  },
  {
   "cell_type": "code",
   "execution_count": 12,
   "id": "5f6ccc4e",
   "metadata": {},
   "outputs": [
    {
     "data": {
      "text/html": [
       "<div>\n",
       "<style scoped>\n",
       "    .dataframe tbody tr th:only-of-type {\n",
       "        vertical-align: middle;\n",
       "    }\n",
       "\n",
       "    .dataframe tbody tr th {\n",
       "        vertical-align: top;\n",
       "    }\n",
       "\n",
       "    .dataframe thead th {\n",
       "        text-align: right;\n",
       "    }\n",
       "</style>\n",
       "<table border=\"1\" class=\"dataframe\">\n",
       "  <thead>\n",
       "    <tr style=\"text-align: right;\">\n",
       "      <th></th>\n",
       "      <th>$R$, Ом</th>\n",
       "      <th>$f_{рез}$, Гц</th>\n",
       "      <th>$\\Delta f$, Гц</th>\n",
       "      <th>$A$</th>\n",
       "      <th>$Q$</th>\n",
       "    </tr>\n",
       "  </thead>\n",
       "  <tbody>\n",
       "    <tr>\n",
       "      <th>0</th>\n",
       "      <td>5.1</td>\n",
       "      <td>6279.64</td>\n",
       "      <td>526.59</td>\n",
       "      <td>0.037</td>\n",
       "      <td>11.925103</td>\n",
       "    </tr>\n",
       "    <tr>\n",
       "      <th>1</th>\n",
       "      <td>22.0</td>\n",
       "      <td>6348.02</td>\n",
       "      <td>2126.90</td>\n",
       "      <td>0.012</td>\n",
       "      <td>2.984635</td>\n",
       "    </tr>\n",
       "    <tr>\n",
       "      <th>2</th>\n",
       "      <td>10.0</td>\n",
       "      <td>6286.47</td>\n",
       "      <td>1189.97</td>\n",
       "      <td>0.017</td>\n",
       "      <td>5.282881</td>\n",
       "    </tr>\n",
       "  </tbody>\n",
       "</table>\n",
       "</div>"
      ],
      "text/plain": [
       "   $R$, Ом  $f_{рез}$, Гц  $\\Delta f$, Гц    $A$        $Q$\n",
       "0      5.1        6279.64          526.59  0.037  11.925103\n",
       "1     22.0        6348.02         2126.90  0.012   2.984635\n",
       "2     10.0        6286.47         1189.97  0.017   5.282881"
      ]
     },
     "execution_count": 12,
     "metadata": {},
     "output_type": "execute_result"
    }
   ],
   "source": [
    "df3 = pd.DataFrame({\n",
    "    \"$R$, Ом\": [5.1, 22, 10],\n",
    "    \"$f_{рез}$, Гц\": [6279.64, 6348.02, 6286.47],\n",
    "    \"$\\Delta f$, Гц\": [526.59, 2126.9, 1189.97],\n",
    "    \"$A$\": [0.037, 0.012, 0.017],\n",
    "})\n",
    "\n",
    "df3[\"$Q$\"] = df3[\"$f_{рез}$, Гц\"] / df3[\"$\\Delta f$, Гц\"]\n",
    "\n",
    "df3"
   ]
  },
  {
   "cell_type": "markdown",
   "id": "f44178c7",
   "metadata": {},
   "source": [
    "### Вывод\n",
    "\n",
    "#### Упражнение 1\n",
    "\n",
    "1) Была расчитана индуктивность катушки: $L = 3.10$ мГн.\n",
    "\n",
    "2) Двумя способами найдена добротность: $Q_1 = 7.22$, $Q_2 = 7.20$. Так как значения слабо отличаются, то можно считать $\\beta \\approx \\frac{r}{2L}$.\n",
    "\n",
    "#### Упражнение 2\n",
    "\n",
    "1) Были получены значения добростности двумя способами, которые примерно равны.\n",
    "\n",
    "2) С помощью МНК рассчитана индуктивность катушки $L = 2.42$ мГн. Значения из 1 и 2 упражнений расходятся, это может быть связано с малым количеством точек в экспериментах.\n",
    "\n",
    "3) Был построен график зависимости $Q(f_{рез})$. Из него видно, что зависимости похожа на линейную.\n",
    "\n",
    "4) Резонансные частоты на разных экспериментах контура примерно одинаковы.\n",
    "\n",
    "#### Упражнение 3\n",
    "\n",
    "1) Добротность не удается расчитать вторым способом, так как цепь параллельна генератору."
   ]
  }
 ],
 "metadata": {
  "kernelspec": {
   "display_name": "Python 3 (ipykernel)",
   "language": "python",
   "name": "python3"
  },
  "language_info": {
   "codemirror_mode": {
    "name": "ipython",
    "version": 3
   },
   "file_extension": ".py",
   "mimetype": "text/x-python",
   "name": "python",
   "nbconvert_exporter": "python",
   "pygments_lexer": "ipython3",
   "version": "3.8.11"
  }
 },
 "nbformat": 4,
 "nbformat_minor": 5
}
